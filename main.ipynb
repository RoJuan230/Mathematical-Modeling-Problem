{
 "cells": [
  {
   "cell_type": "markdown",
   "metadata": {},
   "source": [
    "Problem Link: https://cdn.discordapp.com/attachments/940795238027509840/991737020642754671/2021_MidMCM_HotDogs.pdf"
   ]
  },
  {
   "cell_type": "code",
   "execution_count": 8,
   "metadata": {},
   "outputs": [
    {
     "name": "stdout",
     "output_type": "stream",
     "text": [
      "[172.2, 176.0, 178.4, 162.4, 165.8, 176.6, 180.0, 203.0, 167.4, 170.6]\n"
     ]
    }
   ],
   "source": [
    "events = [\n",
    "    [149, 167, 161, 176, 208],\n",
    "    [183, 193, 166, 174, 164],\n",
    "    [220, 163, 186, 171, 152],\n",
    "    [172, 146, 156, 152, 186],\n",
    "    [188, 166, 180, 147, 148],\n",
    "    [164, 198, 155, 189, 177],\n",
    "    [181, 188, 139, 190, 202],\n",
    "    [181, 218, 213, 201, 202],\n",
    "    [162, 167, 181, 153, 174],\n",
    "    [160, 142, 198, 175, 178]\n",
    "]\n",
    "\n",
    "sums = 0\n",
    "avgs = []\n",
    "\n",
    "for event in events:\n",
    "    for aod in event:\n",
    "        sums += aod\n",
    "    avgs.append(sums/5)\n",
    "    sums = 0\n",
    "\n",
    "print(avgs)\n"
   ]
  },
  {
   "cell_type": "code",
   "execution_count": 9,
   "metadata": {},
   "outputs": [
    {
     "name": "stdout",
     "output_type": "stream",
     "text": [
      "PACKAGES\n",
      "24: 7, 16: 0, 8: 1\n",
      "MONEY USED: 75\n",
      "PROFIT: 277\n",
      "\n",
      "\n",
      "PACKAGES\n",
      "24: 7, 16: 0, 8: 1\n",
      "MONEY USED: 75\n",
      "PROFIT: 277\n",
      "\n",
      "\n",
      "PACKAGES\n",
      "24: 8, 16: 1, 8: 0\n",
      "MONEY USED: 88\n",
      "PROFIT: 328\n",
      "\n",
      "\n",
      "PACKAGES\n",
      "24: 7, 16: 0, 8: 0\n",
      "MONEY USED: 70\n",
      "PROFIT: 266\n",
      "\n",
      "\n",
      "PACKAGES\n",
      "24: 7, 16: 0, 8: 0\n",
      "MONEY USED: 70\n",
      "PROFIT: 266\n",
      "\n",
      "\n",
      "PACKAGES\n",
      "24: 8, 16: 1, 8: 0\n",
      "MONEY USED: 88\n",
      "PROFIT: 328\n",
      "\n",
      "\n",
      "PACKAGES\n",
      "24: 8, 16: 1, 8: 0\n",
      "MONEY USED: 88\n",
      "PROFIT: 328\n",
      "\n",
      "\n",
      "PACKAGES\n",
      "24: 9, 16: 1, 8: 0\n",
      "MONEY USED: 98\n",
      "PROFIT: 366\n",
      "\n",
      "\n",
      "PACKAGES\n",
      "24: 7, 16: 0, 8: 0\n",
      "MONEY USED: 70\n",
      "PROFIT: 266\n",
      "\n",
      "\n",
      "PACKAGES\n",
      "24: 7, 16: 0, 8: 1\n",
      "MONEY USED: 75\n",
      "PROFIT: 277\n",
      "\n",
      "\n"
     ]
    }
   ],
   "source": [
    "total_dogs = []\n",
    "profits = []\n",
    "\n",
    "for avg in avgs:\n",
    "    while sum(total_dogs) < round(avg):\n",
    "        if avg - sum(total_dogs) <= 8:\n",
    "            total_dogs.append(8)\n",
    "            break\n",
    "        elif avg - sum(total_dogs) <= 16:\n",
    "            total_dogs.append(16)\n",
    "        total_dogs.append(24)\n",
    "    money_used = total_dogs.count(24)*10 + total_dogs.count(16)*8 + total_dogs.count(8)*5\n",
    "    profit = sum(total_dogs)*2 - money_used\n",
    "    profits.append(profit)\n",
    "    \n",
    "    print(f'PACKAGES\\n24: {total_dogs.count(24)}, 16: {total_dogs.count(16)}, 8: {total_dogs.count(8)}\\nMONEY USED: {money_used}\\nPROFIT: {profit}\\n\\n')\n",
    "\n",
    "    total_dogs = []\n"
   ]
  },
  {
   "cell_type": "code",
   "execution_count": 10,
   "metadata": {},
   "outputs": [
    {
     "name": "stdout",
     "output_type": "stream",
     "text": [
      "2979\n"
     ]
    }
   ],
   "source": [
    "print(sum(profits))"
   ]
  }
 ],
 "metadata": {
  "kernelspec": {
   "display_name": "Python 3.9.12 ('base')",
   "language": "python",
   "name": "python3"
  },
  "language_info": {
   "codemirror_mode": {
    "name": "ipython",
    "version": 3
   },
   "file_extension": ".py",
   "mimetype": "text/x-python",
   "name": "python",
   "nbconvert_exporter": "python",
   "pygments_lexer": "ipython3",
   "version": "3.9.12"
  },
  "orig_nbformat": 4,
  "vscode": {
   "interpreter": {
    "hash": "7b8ec01fe1ca8fb45588a4ccd1c70e5bbb495e4fae5c72e85a541e07ce265118"
   }
  }
 },
 "nbformat": 4,
 "nbformat_minor": 2
}
